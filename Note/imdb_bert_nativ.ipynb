{
 "cells": [
  {
   "cell_type": "code",
   "execution_count": null,
   "id": "c9cd4836",
   "metadata": {},
   "outputs": [],
   "source": [
    "import os\n",
    "import sys\n",
    "import logging\n",
    "import time\n",
    "\n",
    "import pandas as pd\n",
    "import torch\n",
    "import torch.optim as optim\n",
    "from torch.utils.data import DataLoader\n",
    "\n",
    "# sklearn.metrics提供了大量用于分类、回归、聚类等任务的评估指标，以及一些工具函数来帮助分析模型的预测结果\n",
    "# sklearn.model_selection主要用于模型选择和评估。它提供了多种方法来帮助你进行数据集划分、交叉验证、超参数调优等任务\n",
    "from sklearn.metrics import accuracy_score\n",
    "from sklearn.model_selection import train_test_split\n",
    "\n",
    "#注：在新版本中AdamW已经不存在，推荐版本：pip install transformers==4.36.2\n",
    "from transformers.optimization import AdamW\n",
    "from transformers import BertTokenizerFast, BertForSequenceClassification\n",
    "from tqdm import tqdm"
   ]
  },
  {
   "cell_type": "markdown",
   "id": "9be8f5bb",
   "metadata": {},
   "source": [
    "加载数据"
   ]
  },
  {
   "cell_type": "code",
   "execution_count": null,
   "id": "0659d98f",
   "metadata": {},
   "outputs": [],
   "source": [
    "labeledTrainDataPath = r\"D:\\workplace\\NLP_learning\\dataset\\labeledTrainData.tsv\"\n",
    "testDataPath = r\"D:\\workplace\\NLP_learning\\dataset\\testData.tsv\"\n",
    "\n"
   ]
  }
 ],
 "metadata": {
  "kernelspec": {
   "display_name": "nlp",
   "language": "python",
   "name": "python3"
  },
  "language_info": {
   "codemirror_mode": {
    "name": "ipython",
    "version": 3
   },
   "file_extension": ".py",
   "mimetype": "text/x-python",
   "name": "python",
   "nbconvert_exporter": "python",
   "pygments_lexer": "ipython3",
   "version": "3.10.16"
  }
 },
 "nbformat": 4,
 "nbformat_minor": 5
}
