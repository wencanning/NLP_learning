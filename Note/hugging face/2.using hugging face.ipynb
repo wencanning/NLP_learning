{
 "cells": [
  {
   "cell_type": "markdown",
   "id": "71374f7d",
   "metadata": {},
   "source": [
    "pipline 将 预处理输入，将输入送往model，后输入 打包在一起。"
   ]
  },
  {
   "cell_type": "code",
   "execution_count": 1,
   "id": "c2f8bdd1",
   "metadata": {},
   "outputs": [
    {
     "name": "stderr",
     "output_type": "stream",
     "text": [
      "d:\\Anaconda\\envs\\nlp\\lib\\site-packages\\transformers\\utils\\generic.py:441: FutureWarning: `torch.utils._pytree._register_pytree_node` is deprecated. Please use `torch.utils._pytree.register_pytree_node` instead.\n",
      "  _torch_pytree._register_pytree_node(\n",
      "d:\\Anaconda\\envs\\nlp\\lib\\site-packages\\transformers\\utils\\generic.py:309: FutureWarning: `torch.utils._pytree._register_pytree_node` is deprecated. Please use `torch.utils._pytree.register_pytree_node` instead.\n",
      "  _torch_pytree._register_pytree_node(\n",
      "No model was supplied, defaulted to distilbert-base-uncased-finetuned-sst-2-english and revision af0f99b (https://huggingface.co/distilbert-base-uncased-finetuned-sst-2-english).\n",
      "Using a pipeline without specifying a model name and revision in production is not recommended.\n",
      "d:\\Anaconda\\envs\\nlp\\lib\\site-packages\\huggingface_hub\\file_download.py:896: FutureWarning: `resume_download` is deprecated and will be removed in version 1.0.0. Downloads always resume when possible. If you want to force a new download, use `force_download=True`.\n",
      "  warnings.warn(\n"
     ]
    },
    {
     "data": {
      "text/plain": [
       "[{'label': 'POSITIVE', 'score': 0.9598049521446228},\n",
       " {'label': 'NEGATIVE', 'score': 0.9994558691978455}]"
      ]
     },
     "execution_count": 1,
     "metadata": {},
     "output_type": "execute_result"
    }
   ],
   "source": [
    "from transformers import pipeline\n",
    "\n",
    "classifier = pipeline(\"sentiment-analysis\")\n",
    "classifier(\n",
    "    [\n",
    "        \"I've been waiting for a HuggingFace course my whole life.\",\n",
    "        \"I hate this so much!\",\n",
    "    ]\n",
    ")"
   ]
  },
  {
   "cell_type": "markdown",
   "id": "d629f2cd",
   "metadata": {},
   "source": [
    "### 通过分词器来预处理"
   ]
  },
  {
   "cell_type": "markdown",
   "id": "497bce35",
   "metadata": {},
   "source": [
    "通过checkpoint获取分词器"
   ]
  },
  {
   "cell_type": "code",
   "execution_count": 2,
   "id": "610b62ef",
   "metadata": {},
   "outputs": [
    {
     "name": "stderr",
     "output_type": "stream",
     "text": [
      "d:\\Anaconda\\envs\\nlp\\lib\\site-packages\\huggingface_hub\\file_download.py:896: FutureWarning: `resume_download` is deprecated and will be removed in version 1.0.0. Downloads always resume when possible. If you want to force a new download, use `force_download=True`.\n",
      "  warnings.warn(\n"
     ]
    }
   ],
   "source": [
    "from transformers import AutoTokenizer\n",
    "\n",
    "checkpoint = \"distilbert-base-uncased-finetuned-sst-2-english\"\n",
    "tokenizer = AutoTokenizer.from_pretrained(checkpoint)"
   ]
  },
  {
   "cell_type": "markdown",
   "id": "943a5169",
   "metadata": {},
   "source": [
    "`return_tensors` 参数可以指定返回的张量类型"
   ]
  },
  {
   "cell_type": "code",
   "execution_count": 3,
   "id": "d014ffbe",
   "metadata": {},
   "outputs": [
    {
     "name": "stdout",
     "output_type": "stream",
     "text": [
      "{'input_ids': tensor([[  101,  1045,  1005,  2310,  2042,  3403,  2005,  1037, 17662, 12172,\n",
      "          2607,  2026,  2878,  2166,  1012,   102],\n",
      "        [  101,  1045,  5223,  2023,  2061,  2172,   999,   102,     0,     0,\n",
      "             0,     0,     0,     0,     0,     0]]), 'attention_mask': tensor([[1, 1, 1, 1, 1, 1, 1, 1, 1, 1, 1, 1, 1, 1, 1, 1],\n",
      "        [1, 1, 1, 1, 1, 1, 1, 1, 0, 0, 0, 0, 0, 0, 0, 0]])}\n"
     ]
    }
   ],
   "source": [
    "raw_inputs = [\n",
    "    \"I've been waiting for a HuggingFace course my whole life.\",\n",
    "    \"I hate this so much!\",\n",
    "]\n",
    "#返回字典\n",
    "inputs = tokenizer(raw_inputs, padding=True, truncation=True, return_tensors=\"pt\")\n",
    "print(inputs)"
   ]
  },
  {
   "cell_type": "markdown",
   "id": "1e34e425",
   "metadata": {},
   "source": [
    "tokenizer返回字典。字典中包含有两个key。在input_ids中每条句子对应1维的vector，每个元素是每个token的唯一标识"
   ]
  },
  {
   "cell_type": "markdown",
   "id": "b8fff0d9",
   "metadata": {},
   "source": [
    "### 将预处理的结果传递给模型"
   ]
  },
  {
   "cell_type": "markdown",
   "id": "3139a48b",
   "metadata": {},
   "source": [
    "加载预训练的模型"
   ]
  },
  {
   "cell_type": "code",
   "execution_count": 4,
   "id": "2fed15b4",
   "metadata": {},
   "outputs": [],
   "source": [
    "from transformers import AutoModel\n",
    "\n",
    "model = AutoModel.from_pretrained(checkpoint)"
   ]
  },
  {
   "cell_type": "markdown",
   "id": "d35745b2",
   "metadata": {},
   "source": [
    "transformer model 的输出是一个高维向量（hidden states or features），该向量代表了对输入内容的上下文理解。通包含三个维度\n",
    "- Batch size\n",
    "- Sequence length\n",
    "- Hidden size: 代表了model输出向量的维度\n",
    "\n",
    "model的输出通常会被送往head。在不同的任务中，transformer的架构通常相同，但head不同"
   ]
  },
  {
   "cell_type": "code",
   "execution_count": 8,
   "id": "6f1d01de",
   "metadata": {},
   "outputs": [
    {
     "name": "stdout",
     "output_type": "stream",
     "text": [
      "torch.Size([2, 16, 768])\n"
     ]
    }
   ],
   "source": [
    "outputs = model(**inputs)\n",
    "print(outputs.last_hidden_state.shape)"
   ]
  },
  {
   "cell_type": "markdown",
   "id": "389e33f2",
   "metadata": {},
   "source": [
    "model的输出类似于字典，可以通过key或者index来访问元素"
   ]
  },
  {
   "cell_type": "code",
   "execution_count": 10,
   "id": "fb05a33c",
   "metadata": {},
   "outputs": [
    {
     "data": {
      "text/plain": [
       "(tensor([[[-0.1798,  0.2333,  0.6321,  ..., -0.3017,  0.5008,  0.1481],\n",
       "          [ 0.2758,  0.6497,  0.3200,  ..., -0.0760,  0.5136,  0.1329],\n",
       "          [ 0.9046,  0.0985,  0.2950,  ...,  0.3352, -0.1407, -0.6464],\n",
       "          ...,\n",
       "          [ 0.1466,  0.5661,  0.3235,  ..., -0.3376,  0.5100, -0.0561],\n",
       "          [ 0.7500,  0.0487,  0.1738,  ...,  0.4684,  0.0030, -0.6084],\n",
       "          [ 0.0519,  0.3729,  0.5223,  ...,  0.3584,  0.6500, -0.3883]],\n",
       " \n",
       "         [[-0.2937,  0.7283, -0.1497,  ..., -0.1187, -1.0227, -0.0422],\n",
       "          [-0.2206,  0.9384, -0.0951,  ..., -0.3643, -0.6605,  0.2407],\n",
       "          [-0.1536,  0.8988, -0.0728,  ..., -0.2189, -0.8528,  0.0710],\n",
       "          ...,\n",
       "          [-0.3017,  0.9002, -0.0200,  ..., -0.1082, -0.8412, -0.0861],\n",
       "          [-0.3338,  0.9674, -0.0729,  ..., -0.1952, -0.8181, -0.0634],\n",
       "          [-0.3454,  0.8824, -0.0426,  ..., -0.0993, -0.8329, -0.1065]]],\n",
       "        grad_fn=<NativeLayerNormBackward0>),\n",
       " tensor([[[-0.1798,  0.2333,  0.6321,  ..., -0.3017,  0.5008,  0.1481],\n",
       "          [ 0.2758,  0.6497,  0.3200,  ..., -0.0760,  0.5136,  0.1329],\n",
       "          [ 0.9046,  0.0985,  0.2950,  ...,  0.3352, -0.1407, -0.6464],\n",
       "          ...,\n",
       "          [ 0.1466,  0.5661,  0.3235,  ..., -0.3376,  0.5100, -0.0561],\n",
       "          [ 0.7500,  0.0487,  0.1738,  ...,  0.4684,  0.0030, -0.6084],\n",
       "          [ 0.0519,  0.3729,  0.5223,  ...,  0.3584,  0.6500, -0.3883]],\n",
       " \n",
       "         [[-0.2937,  0.7283, -0.1497,  ..., -0.1187, -1.0227, -0.0422],\n",
       "          [-0.2206,  0.9384, -0.0951,  ..., -0.3643, -0.6605,  0.2407],\n",
       "          [-0.1536,  0.8988, -0.0728,  ..., -0.2189, -0.8528,  0.0710],\n",
       "          ...,\n",
       "          [-0.3017,  0.9002, -0.0200,  ..., -0.1082, -0.8412, -0.0861],\n",
       "          [-0.3338,  0.9674, -0.0729,  ..., -0.1952, -0.8181, -0.0634],\n",
       "          [-0.3454,  0.8824, -0.0426,  ..., -0.0993, -0.8329, -0.1065]]],\n",
       "        grad_fn=<NativeLayerNormBackward0>))"
      ]
     },
     "execution_count": 10,
     "metadata": {},
     "output_type": "execute_result"
    }
   ],
   "source": [
    "outputs[\"last_hidden_state\"], outputs[0]"
   ]
  },
  {
   "cell_type": "markdown",
   "id": "98d680f1",
   "metadata": {},
   "source": [
    "Model heads: Making sense out of numbers"
   ]
  },
  {
   "attachments": {
    "image.png": {
     "image/png": "[encoded data removed]"
    }
   },
   "cell_type": "markdown",
   "id": "45ef265c",
   "metadata": {},
   "source": [
    "![image.png](attachment:image.png)"
   ]
  },
  {
   "cell_type": "markdown",
   "id": "cd6f6cca",
   "metadata": {},
   "source": [
    "model head通常由多个线性层组成。model head将hidden states转换为我们想要的数学结果.\n",
    "\n",
    "对于情感分类问题，我们需要`sequence classification head`"
   ]
  },
  {
   "cell_type": "code",
   "execution_count": 12,
   "id": "a5abcc0f",
   "metadata": {},
   "outputs": [
    {
     "name": "stderr",
     "output_type": "stream",
     "text": [
      "d:\\Anaconda\\envs\\nlp\\lib\\site-packages\\huggingface_hub\\file_download.py:896: FutureWarning: `resume_download` is deprecated and will be removed in version 1.0.0. Downloads always resume when possible. If you want to force a new download, use `force_download=True`.\n",
      "  warnings.warn(\n"
     ]
    }
   ],
   "source": [
    "from transformers import AutoModelForSequenceClassification\n",
    "\n",
    "model = AutoModelForSequenceClassification.from_pretrained(checkpoint)\n",
    "outputs = model(**inputs)"
   ]
  },
  {
   "cell_type": "code",
   "execution_count": 13,
   "id": "c7c73dcd",
   "metadata": {},
   "outputs": [
    {
     "name": "stdout",
     "output_type": "stream",
     "text": [
      "torch.Size([2, 2])\n"
     ]
    }
   ],
   "source": [
    "print(outputs[\"logits\"].shape)"
   ]
  },
  {
   "cell_type": "markdown",
   "id": "5a541e51",
   "metadata": {},
   "source": [
    "后处理输出"
   ]
  },
  {
   "cell_type": "markdown",
   "id": "01d321f4",
   "metadata": {},
   "source": [
    "在深度学习中，​​logits​​ 是指模型最后一层（通常是全连接层或输出层）输出的​​原始未归一化分数​​，\n",
    "尚未经过激活函数（如 Softmax 或 Sigmoid）处理。在分类任务中，logits 的绝对值大小表示模型对某类别的置信度（值越大，倾向性越强）"
   ]
  },
  {
   "cell_type": "markdown",
   "id": "8ff7fa5d",
   "metadata": {},
   "source": [
    "为了将logits转换为概率，我们还需要使用softmax激活函数. 训练时的处理​​：在训练阶段，损失函数（如交叉熵损失）会​​将SoftMax激活与损失计算合并​​（即nn.CrossEntropyLoss已内置SoftMax），而非分开执行."
   ]
  },
  {
   "cell_type": "code",
   "execution_count": 15,
   "id": "00be3f7d",
   "metadata": {},
   "outputs": [
    {
     "name": "stdout",
     "output_type": "stream",
     "text": [
      "tensor([[4.0195e-02, 9.5980e-01],\n",
      "        [9.9946e-01, 5.4418e-04]], grad_fn=<SoftmaxBackward0>)\n"
     ]
    }
   ],
   "source": [
    "import torch\n",
    "prediction = torch.nn.functional.softmax(outputs['logits'],dim=-1)\n",
    "print(prediction)"
   ]
  },
  {
   "cell_type": "markdown",
   "id": "856be0e6",
   "metadata": {},
   "source": [
    "可以通过 model.config 中的 `id2label` 属性来获取每一列对应的label"
   ]
  },
  {
   "cell_type": "code",
   "execution_count": 16,
   "id": "47465cd9",
   "metadata": {},
   "outputs": [
    {
     "name": "stdout",
     "output_type": "stream",
     "text": [
      "{0: 'NEGATIVE', 1: 'POSITIVE'}\n"
     ]
    }
   ],
   "source": [
    "print(model.config.id2label)"
   ]
  },
  {
   "cell_type": "markdown",
   "id": "e04e03c4",
   "metadata": {},
   "source": [
    "至此我们已经成功复现pipeline背后的三步操作： \n",
    "\n",
    "preprocessing with tokenizers, passing the inputs through the model, and postprocessing!"
   ]
  }
 ],
 "metadata": {
  "kernelspec": {
   "display_name": "nlp",
   "language": "python",
   "name": "python3"
  },
  "language_info": {
   "codemirror_mode": {
    "name": "ipython",
    "version": 3
   },
   "file_extension": ".py",
   "mimetype": "text/x-python",
   "name": "python",
   "nbconvert_exporter": "python",
   "pygments_lexer": "ipython3",
   "version": "3.10.16"
  }
 },
 "nbformat": 4,
 "nbformat_minor": 5
}
