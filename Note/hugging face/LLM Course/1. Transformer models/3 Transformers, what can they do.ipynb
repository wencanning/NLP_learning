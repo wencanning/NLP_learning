{
 "cells": [
  {
   "cell_type": "markdown",
   "id": "43b33f53",
   "metadata": {},
   "source": [
    "# Transformers, what can they do?"
   ]
  },
  {
   "cell_type": "markdown",
   "id": "ae232d76",
   "metadata": {},
   "source": [
    "在本节中，我们将探讨 Transformer 模型能做什么，并使用来自 🤗 Transformers 库的第一个工具：pipeline() 函数。"
   ]
  },
  {
   "cell_type": "markdown",
   "id": "f61880d5",
   "metadata": {},
   "source": [
    "## Transformers are everywhere!"
   ]
  },
  {
   "cell_type": "markdown",
   "id": "9c75bd54",
   "metadata": {},
   "source": [
    "Transformer 模型被用于解决不同模态下的各类任务，包括自然语言处理（NLP）、计算机视觉、音频处理等等。以下是使用 Hugging Face 和 Transformer 模型的一些公司和组织，他们还通过分享自己的模型为社区做出贡献："
   ]
  },
  {
   "cell_type": "markdown",
   "id": "709ad536",
   "metadata": {},
   "source": [
    "🤗 Transformers 库提供了创建和使用这些共享模型的功能。模型中心包含数百万个预训练模型，任何人都可以下载和使用。您还可以将您自己的模型上传到中心！\n",
    "\n",
    "在深入探讨 Transformer 模型的内部工作原理之前，让我们先来看几个例子，了解它们如何用于解决一些有趣的自然语言处理问题。"
   ]
  },
  {
   "cell_type": "markdown",
   "id": "a192b35e",
   "metadata": {},
   "source": [
    "## Working with pipelines"
   ]
  },
  {
   "cell_type": "markdown",
   "id": "b8157d87",
   "metadata": {},
   "source": [
    "🤗 Transformers 库中最基本的对象是 pipeline() 函数。它将模型与其必要的预处理和后处理步骤连接起来，使我们能够直接输入任何文本并获得可理解的答案："
   ]
  },
  {
   "cell_type": "code",
   "execution_count": 1,
   "id": "577561b8",
   "metadata": {},
   "outputs": [
    {
     "name": "stderr",
     "output_type": "stream",
     "text": [
      "No model was supplied, defaulted to distilbert/distilbert-base-uncased-finetuned-sst-2-english and revision 714eb0f (https://huggingface.co/distilbert/distilbert-base-uncased-finetuned-sst-2-english).\n",
      "Using a pipeline without specifying a model name and revision in production is not recommended.\n"
     ]
    },
    {
     "data": {
      "application/vnd.jupyter.widget-view+json": {
       "model_id": "8fcf501a1f004a27b4f646a87453bc66",
       "version_major": 2,
       "version_minor": 0
      },
      "text/plain": [
       "config.json:   0%|          | 0.00/629 [00:00<?, ?B/s]"
      ]
     },
     "metadata": {},
     "output_type": "display_data"
    },
    {
     "name": "stderr",
     "output_type": "stream",
     "text": [
      "Xet Storage is enabled for this repo, but the 'hf_xet' package is not installed. Falling back to regular HTTP download. For better performance, install the package with: `pip install huggingface_hub[hf_xet]` or `pip install hf_xet`\n"
     ]
    },
    {
     "data": {
      "application/vnd.jupyter.widget-view+json": {
       "model_id": "03b69886ad0e48c9996170bd9f73f8e0",
       "version_major": 2,
       "version_minor": 0
      },
      "text/plain": [
       "model.safetensors:   0%|          | 0.00/268M [00:00<?, ?B/s]"
      ]
     },
     "metadata": {},
     "output_type": "display_data"
    },
    {
     "data": {
      "application/vnd.jupyter.widget-view+json": {
       "model_id": "e40506ffb4cd40c0a0a9c658a2d89ae3",
       "version_major": 2,
       "version_minor": 0
      },
      "text/plain": [
       "tokenizer_config.json:   0%|          | 0.00/48.0 [00:00<?, ?B/s]"
      ]
     },
     "metadata": {},
     "output_type": "display_data"
    },
    {
     "data": {
      "application/vnd.jupyter.widget-view+json": {
       "model_id": "09834f0152a1432fa57e39330b4ea9ba",
       "version_major": 2,
       "version_minor": 0
      },
      "text/plain": [
       "vocab.txt:   0%|          | 0.00/232k [00:00<?, ?B/s]"
      ]
     },
     "metadata": {},
     "output_type": "display_data"
    },
    {
     "name": "stderr",
     "output_type": "stream",
     "text": [
      "Device set to use cuda:0\n"
     ]
    },
    {
     "data": {
      "text/plain": [
       "[{'label': 'POSITIVE', 'score': 0.9598046541213989}]"
      ]
     },
     "execution_count": 1,
     "metadata": {},
     "output_type": "execute_result"
    }
   ],
   "source": [
    "from transformers import pipeline\n",
    "\n",
    "classifier = pipeline(\"sentiment-analysis\")\n",
    "classifier(\"I've been waiting for a HuggingFace course my whole life.\")"
   ]
  }
 ],
 "metadata": {
  "kernelspec": {
   "display_name": "nlp",
   "language": "python",
   "name": "python3"
  },
  "language_info": {
   "codemirror_mode": {
    "name": "ipython",
    "version": 3
   },
   "file_extension": ".py",
   "mimetype": "text/x-python",
   "name": "python",
   "nbconvert_exporter": "python",
   "pygments_lexer": "ipython3",
   "version": "3.10.16"
  }
 },
 "nbformat": 4,
 "nbformat_minor": 5
}
