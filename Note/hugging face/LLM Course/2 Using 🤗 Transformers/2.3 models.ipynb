{
 "cells": [
  {
   "cell_type": "markdown",
   "id": "92defcd9",
   "metadata": {},
   "source": [
    "### 创建transformer"
   ]
  },
  {
   "cell_type": "code",
   "execution_count": 1,
   "id": "a2b5123d",
   "metadata": {},
   "outputs": [],
   "source": [
    "from transformers import BertConfig, BertModel\n",
    "\n",
    "config = BertConfig()\n",
    "model = BertModel(config)"
   ]
  },
  {
   "cell_type": "code",
   "execution_count": 2,
   "id": "bdc6bfaf",
   "metadata": {},
   "outputs": [
    {
     "name": "stdout",
     "output_type": "stream",
     "text": [
      "BertConfig {\n",
      "  \"_attn_implementation_autoset\": true,\n",
      "  \"attention_probs_dropout_prob\": 0.1,\n",
      "  \"classifier_dropout\": null,\n",
      "  \"hidden_act\": \"gelu\",\n",
      "  \"hidden_dropout_prob\": 0.1,\n",
      "  \"hidden_size\": 768,\n",
      "  \"initializer_range\": 0.02,\n",
      "  \"intermediate_size\": 3072,\n",
      "  \"layer_norm_eps\": 1e-12,\n",
      "  \"max_position_embeddings\": 512,\n",
      "  \"model_type\": \"bert\",\n",
      "  \"num_attention_heads\": 12,\n",
      "  \"num_hidden_layers\": 12,\n",
      "  \"pad_token_id\": 0,\n",
      "  \"position_embedding_type\": \"absolute\",\n",
      "  \"transformers_version\": \"4.51.3\",\n",
      "  \"type_vocab_size\": 2,\n",
      "  \"use_cache\": true,\n",
      "  \"vocab_size\": 30522\n",
      "}\n",
      "\n"
     ]
    }
   ],
   "source": [
    "print(config)"
   ]
  },
  {
   "cell_type": "markdown",
   "id": "cbbac884",
   "metadata": {},
   "source": [
    "### 不同创建模型的方式\n",
    "上述通过config创建模型会使得模型拥有随机参数。可以通过`from_pretrained`方法来调用预训练的模型"
   ]
  },
  {
   "cell_type": "code",
   "execution_count": 3,
   "id": "1982d484",
   "metadata": {},
   "outputs": [],
   "source": [
    "from transformers import BertModel\n",
    "\n",
    "model = BertModel.from_pretrained(\"bert-base-cased\")"
   ]
  },
  {
   "cell_type": "markdown",
   "id": "5ba42d4e",
   "metadata": {},
   "source": [
    "### Using a Transformer model for inference"
   ]
  },
  {
   "cell_type": "markdown",
   "id": "43e0e68d",
   "metadata": {},
   "source": [
    "模型的输入是对应框架的张量"
   ]
  },
  {
   "cell_type": "code",
   "execution_count": 4,
   "id": "5c521632",
   "metadata": {},
   "outputs": [],
   "source": [
    "sequence = [\"Hello!\", \"Cool.\", \"Nice!\"]\n",
    "# input IDs.\n",
    "encoded_sequences = [\n",
    "    [101, 7592, 999, 102],\n",
    "    [101, 4658, 1012, 102],\n",
    "    [101, 3835, 999, 102],\n",
    "]"
   ]
  },
  {
   "cell_type": "code",
   "execution_count": 5,
   "id": "e796440b",
   "metadata": {},
   "outputs": [],
   "source": [
    "import torch\n",
    "\n",
    "model_inputs = torch.tensor(encoded_sequences)"
   ]
  },
  {
   "cell_type": "markdown",
   "id": "b5400ec7",
   "metadata": {},
   "source": [
    "使用tensor作为模型的输入"
   ]
  },
  {
   "cell_type": "code",
   "execution_count": 6,
   "id": "bf84a7d0",
   "metadata": {},
   "outputs": [],
   "source": [
    "output = model(model_inputs) # hidden_states"
   ]
  },
  {
   "cell_type": "code",
   "execution_count": 17,
   "id": "3909f4af",
   "metadata": {},
   "outputs": [
    {
     "name": "stdout",
     "output_type": "stream",
     "text": [
      "torch.Size([3, 4])\n",
      "torch.Size([3, 4, 768])\n",
      "torch.Size([3, 768])\n"
     ]
    }
   ],
   "source": [
    "print(model_inputs.shape)\n",
    "print(output[0].shape)\n",
    "print(output[1].shape)"
   ]
  },
  {
   "cell_type": "markdown",
   "id": "9ba304d5",
   "metadata": {},
   "source": [
    "尽管还有其他参数，但只有input IDs是必须的"
   ]
  }
 ],
 "metadata": {
  "kernelspec": {
   "display_name": "nlp",
   "language": "python",
   "name": "python3"
  },
  "language_info": {
   "codemirror_mode": {
    "name": "ipython",
    "version": 3
   },
   "file_extension": ".py",
   "mimetype": "text/x-python",
   "name": "python",
   "nbconvert_exporter": "python",
   "pygments_lexer": "ipython3",
   "version": "3.10.16"
  }
 },
 "nbformat": 4,
 "nbformat_minor": 5
}
