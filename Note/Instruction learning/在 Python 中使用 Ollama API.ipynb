{
 "cells": [
  {
   "cell_type": "markdown",
   "id": "19e6bee2",
   "metadata": {},
   "source": [
    "## 使用方法"
   ]
  },
  {
   "cell_type": "code",
   "execution_count": 6,
   "id": "2bfadf3e",
   "metadata": {},
   "outputs": [],
   "source": [
    "model_name = \"deepseek-r1:8b\""
   ]
  },
  {
   "cell_type": "code",
   "execution_count": null,
   "id": "d1766882",
   "metadata": {},
   "outputs": [
    {
     "name": "stdout",
     "output_type": "stream",
     "text": [
      "<think>\n",
      "嗯，为什么天空是蓝色的呢？这个问题听起来简单，但其实背后的科学原理可能比较复杂。首先，我应该回忆一下关于光学和大气层的知识。\n",
      "\n",
      "我记得天空的颜色主要来自于散射，也就是阳光通过地球的大气层时发生的现象。当太阳光穿过大气层时，不同波长的光线散射程度不同。蓝色、紫色的光波长较短，容易被散射，而红色、橙色的光波长较长，更容易透射到地面。这可能解释了为什么天空看起来是蓝色或紫色。\n",
      "\n",
      "但是，这个解释是不是完全正确呢？我还记得一些关于颜色和人眼感知的东西。其实，人眼对不同颜色的敏感度不一样，尤其是在不同的光照条件下。比如，在明亮的天空下，蓝色看起来更明显，而在阴沉的天气里，可能会有灰蒙蒙的感觉。\n",
      "\n",
      "另外，我想起了“散射定律”，也就是布鲁赫普拉特定律，它解释了为什么阳光经过大气层时会发生散射。根据这个定律，较短波长的光线（如蓝色、紫色）更容易被散射到各个方向，而较长波长的光线（如红色、橙色）则更多地透射到下方。\n",
      "\n",
      "不过，我有点疑惑的是，为什么大气层会对不同颜色的光有不同的散射效果。是不是因为分子和小颗粒在大气中有不同的运动速度？这可能涉及到光的波长和碰撞频率有关，当光线与分子或颗粒相遇时，波长较短的光更容易被散射。\n",
      "\n",
      "还有，我听说过“空气颜色”，就是当阳光穿过大气层多次反射时，可能会有颜色的叠加。这个过程可能也影响到天空的颜色。不过，这部分我还不太清楚具体是怎么操作的。\n",
      "\n",
      "再想一下，有没有什么实验或者现象可以用来验证这些理论？比如，当太阳高度角低的时候（即日出或日落时），地面会呈现红色，说明更长波长的光线更多地到达地面。相反，当太阳在高空时，蓝色的光被散射到了天空，这可能就是为什么天空看起来是蓝色的原因。\n",
      "\n",
      "总结一下，我觉得天空是蓝色的主要原因是因为大气层中的分子和小颗粒对不同波长的光有不同的散射效果，尤其是蓝色和紫色的光更容易被散射到各个方向，而红色、橙色等颜色的光则更多地透射到地面。这种现象在大气相对清晰的时候最为明显，形成了我们熟悉的蓝天。\n",
      "\n",
      "不过，我还想了解更多关于人眼感知的部分，比如人眼为什么更敏感于蓝色。这可能与人类视网膜中的细胞结构有关，当光线进入眼睛时，会将不同波长的光转换成信号，而蓝色的光可能在特定条件下刺激了更多的细胞，从而使我们觉得天空是蓝色的。\n",
      "\n",
      "此外，我也想知道如果大气层中有更多的颗粒或者污染物，会对天空颜色有什么影响。比如，城市里的天空常常看起来灰蒙蒙的，这可能是因为空气中的颗粒较多，散射了更多的光线，减少了蓝色的反射。\n",
      "\n",
      "还有一个问题，就是为什么在有些地方，比如火星或者其他行星的天空颜色和地球不同。这可能与它们的大气成分和结构有关。比如，火星的大气主要由二氧化碳组成，这种气体对不同的光有不同的散射效果，从而影响了其天空颜色。\n",
      "\n",
      "总之，虽然天空看起来简单，但背后涉及到大量的物理现象和过程，我需要进一步学习相关的光学、电磁波以及大气层的知识，才能更全面地理解为什么天空是蓝色的。\n",
      "</think>\n",
      "\n",
      "天空呈现蓝色主要是由于光的散射作用。当阳光穿过地球的大气层时，不同波长的光线（如红色、橙色和蓝色）经历不同的散射程度。根据布鲁赫普拉特定律，较短波长的光线（蓝色、紫色）更容易被大气中的分子和小颗粒散射到各个方向，而较长波长的光线则更多地透射到地面。因此，在相对清晰的大气条件下，我们看到天空呈现出蓝色或紫色的颜色。当光线高度角较低时（如日出或日落），红色和橙色的光更为明显，这是因为这些波长的光线更多地到达了地面。\n",
      "\n",
      "此外，人眼对不同颜色的敏感度也起到一定作用。天空中的蓝色反射来自于大气层中的分子对短波光的高效散射，而红色和橙色则更多地通过透射到达地面。这一现象解释了为什么我们看到的天空多为蓝色。\n",
      "\n",
      "总结而言，天空呈现蓝色的原因是由于大气中的分子和小颗粒对不同波长的光有不同的散射效果，其中较短波长的光更容易被散射到空中，使天空呈现出蓝色或紫色的颜色。\n",
      "<think>\n",
      "嗯，为什么天空是蓝色的呢？这个问题听起来简单，但其实背后的科学原理可能比较复杂。首先，我应该回忆一下关于光学和大气层的知识。\n",
      "\n",
      "我记得天空的颜色主要来自于散射，也就是阳光通过地球的大气层时发生的现象。当太阳光穿过大气层时，不同波长的光线散射程度不同。蓝色、紫色的光波长较短，容易被散射，而红色、橙色的光波长较长，更容易透射到地面。这可能解释了为什么天空看起来是蓝色或紫色。\n",
      "\n",
      "但是，这个解释是不是完全正确呢？我还记得一些关于颜色和人眼感知的东西。其实，人眼对不同颜色的敏感度不一样，尤其是在不同的光照条件下。比如，在明亮的天空下，蓝色看起来更明显，而在阴沉的天气里，可能会有灰蒙蒙的感觉。\n",
      "\n",
      "另外，我想起了“散射定律”，也就是布鲁赫普拉特定律，它解释了为什么阳光经过大气层时会发生散射。根据这个定律，较短波长的光线（如蓝色、紫色）更容易被散射到各个方向，而较长波长的光线（如红色、橙色）则更多地透射到下方。\n",
      "\n",
      "不过，我有点疑惑的是，为什么大气层会对不同颜色的光有不同的散射效果。是不是因为分子和小颗粒在大气中有不同的运动速度？这可能涉及到光的波长和碰撞频率有关，当光线与分子或颗粒相遇时，波长较短的光更容易被散射。\n",
      "\n",
      "还有，我听说过“空气颜色”，就是当阳光穿过大气层多次反射时，可能会有颜色的叠加。这个过程可能也影响到天空的颜色。不过，这部分我还不太清楚具体是怎么操作的。\n",
      "\n",
      "再想一下，有没有什么实验或者现象可以用来验证这些理论？比如，当太阳高度角低的时候（即日出或日落时），地面会呈现红色，说明更长波长的光线更多地到达地面。相反，当太阳在高空时，蓝色的光被散射到了天空，这可能就是为什么天空看起来是蓝色的原因。\n",
      "\n",
      "总结一下，我觉得天空是蓝色的主要原因是因为大气层中的分子和小颗粒对不同波长的光有不同的散射效果，尤其是蓝色和紫色的光更容易被散射到各个方向，而红色、橙色等颜色的光则更多地透射到地面。这种现象在大气相对清晰的时候最为明显，形成了我们熟悉的蓝天。\n",
      "\n",
      "不过，我还想了解更多关于人眼感知的部分，比如人眼为什么更敏感于蓝色。这可能与人类视网膜中的细胞结构有关，当光线进入眼睛时，会将不同波长的光转换成信号，而蓝色的光可能在特定条件下刺激了更多的细胞，从而使我们觉得天空是蓝色的。\n",
      "\n",
      "此外，我也想知道如果大气层中有更多的颗粒或者污染物，会对天空颜色有什么影响。比如，城市里的天空常常看起来灰蒙蒙的，这可能是因为空气中的颗粒较多，散射了更多的光线，减少了蓝色的反射。\n",
      "\n",
      "还有一个问题，就是为什么在有些地方，比如火星或者其他行星的天空颜色和地球不同。这可能与它们的大气成分和结构有关。比如，火星的大气主要由二氧化碳组成，这种气体对不同的光有不同的散射效果，从而影响了其天空颜色。\n",
      "\n",
      "总之，虽然天空看起来简单，但背后涉及到大量的物理现象和过程，我需要进一步学习相关的光学、电磁波以及大气层的知识，才能更全面地理解为什么天空是蓝色的。\n",
      "</think>\n",
      "\n",
      "天空呈现蓝色主要是由于光的散射作用。当阳光穿过地球的大气层时，不同波长的光线（如红色、橙色和蓝色）经历不同的散射程度。根据布鲁赫普拉特定律，较短波长的光线（蓝色、紫色）更容易被大气中的分子和小颗粒散射到各个方向，而较长波长的光线则更多地透射到地面。因此，在相对清晰的大气条件下，我们看到天空呈现出蓝色或紫色的颜色。当光线高度角较低时（如日出或日落），红色和橙色的光更为明显，这是因为这些波长的光线更多地到达了地面。\n",
      "\n",
      "此外，人眼对不同颜色的敏感度也起到一定作用。天空中的蓝色反射来自于大气层中的分子对短波光的高效散射，而红色和橙色则更多地通过透射到达地面。这一现象解释了为什么我们看到的天空多为蓝色。\n",
      "\n",
      "总结而言，天空呈现蓝色的原因是由于大气中的分子和小颗粒对不同波长的光有不同的散射效果，其中较短波长的光更容易被散射到空中，使天空呈现出蓝色或紫色的颜色。\n"
     ]
    }
   ],
   "source": [
    "from ollama import chat\n",
    "from ollama import ChatResponse\n",
    "# 这种定义变量response的方法是使用了​​类型注解（Type Annotation）​​和​​类型提示（Type Hinting）\n",
    "# response: ChatResponse 显式声明了变量 response 的类型为 ChatResponse\n",
    "response: ChatResponse = chat(\n",
    "    model=model_name,\n",
    "    messages=[\n",
    "        {\n",
    "            'role': 'user',\n",
    "            'content': '为什么天空是蓝色的？',\n",
    "        },\n",
    "    ]\n",
    ")\n",
    "\n",
    "print(response['message']['content'])\n",
    "print(response.message.content)"
   ]
  },
  {
   "cell_type": "markdown",
   "id": "11a575f3",
   "metadata": {},
   "source": [
    "## 流式响应\n",
    "\n",
    "\n",
    "Ollama 的流式响应（Streaming Response）是一种实时数据传输机制，允许模型在生成文本的过程中逐步返回结果，而无需等待整个响应完成。"
   ]
  },
  {
   "cell_type": "code",
   "execution_count": null,
   "id": "644806ef",
   "metadata": {},
   "outputs": [
    {
     "name": "stdout",
     "output_type": "stream",
     "text": [
      "<think>\n",
      "嗯，天空为什么是蓝色的呢？这个问题好像以前学过的，但具体细节记不太清楚了。首先，我想到了地球的大气层。地球有很多不同的大气层，比如地理平面、大气层和电离层。不过，大多数情况下，天空的颜色主要来自于哪一层呢？\n",
      "\n",
      "我记得老师说过，阳光通过地球大气层的时候，会发生散射。这可能就是为什么天空不是黑色的，而是有颜色的原因。散射是什么意思呢？好像是一些光线被大气中的分子或原子散落出来的，这样原本直射下来的光线就被打乱了方向，导致我们看到的是来自其他方向的光线。\n",
      "\n",
      "那具体来说，当阳光进入地球的大气层时，会发生什么样的散射呢？有没有不同的因素在起作用，比如空气分子、水蒸气或者尘埃等等？我记得氧气和臭氧这样的气体可能在这个过程中起到作用。\n",
      "\n",
      "另外，我好像听说过 Rayleigh 扩散定律，它描述了光线在大气中的传播情况，尤其是蓝色光的衰减速度比其他颜色的慢。这可能解释了为什么天空看起来是蓝色的，而不是其他颜色，比如绿色或红色。\n",
      "\n",
      "不过，这个理论是否适用于地球的大气层呢？会不会还有其他因素影响天空的颜色，比如气溶胶或者污染物？在某些情况下，例如大城市里，空气污染可能让天空看起来更灰蒙蒙的。这是不是说明天空的颜色也可以变化？\n",
      "\n",
      "我还记得在很高的海拔或太空中，宇航员看到地球的天空是黑色的，这可能与大气层有关。从这个现象来看，大气层不仅影响着地表上的颜色，也影响着更高空的视觉效果。\n",
      "\n",
      "那么，如果散射导致了天空的颜色，那为什么我们看不到太多其他颜色的光呢？会不会是因为蓝光在大气中的传播路径和强度有特殊之处？\n",
      "\n",
      "还有，人眼对不同颜色的敏感度不一样，我们更容易注意到蓝色，这可能也是天空颜色的主导原因之一。虽然视觉系统对蓝色较为敏感，但天空的颜色主要还是由物理因素决定的。\n",
      "\n",
      "再想一想，有没有其他理论或观点解释天空为什么是蓝色的？比如说声学的影响或者其他科学领域的相关理论。我记得有些书籍提到过光散射和彩色体现的关系，这可能是一个关键点。\n",
      "\n",
      "总结一下，我的理解是：当阳光进入地球的大气层时，由于大气分子对不同颜色的光线散射能力不同，尤其是蓝色光散射较弱，所以我们看到的是被散射的光线，天空呈现出蓝色。而其他因素，如人眼敏感度和空气污染，也会影响这一现象。但核心原因还是与大气中的光散射有关。\n",
      "\n",
      "在这个过程中，我可能忽略了一些细节，比如具体的散射机制或者某些科学定律的应用，需要进一步查阅资料来确认这些想法是否正确。\n",
      "</think>\n",
      "\n",
      "天空呈现蓝色主要是由于地球的大气层对光线进行了散射。具体来说，当阳光进入大气层时，不同颜色的光线经历不同的散射程度，这种现象称为散射彩色体现。\n",
      "\n",
      "1. **光的传播与散射**：阳光由太阳发出，经过地球的大气层到达地面。大气中的分子和原子会对光线进行散射，使原本直射下来的光线偏移方向。\n",
      "\n",
      "2. **不同颜色光的散射程度**：\n",
      "   - **红蓝光散射少**：尤其是蓝色光，其波长较短，散射效应相对较小。因此，当阳光从高空（如太空）进入地球大气层时，蓝色光更容易通过不透明的大气层传播到地面。\n",
      "   - **其他颜色光散射多**：如红色、橙色和黄色的波长较长，随着距离增加，这些颜色的光线被散射得更多，因此在地表上看不到明显的太阳形状，而是呈现为圆盘状。\n",
      "\n",
      "3. **人眼敏感度影响**：虽然蓝色光在大气中的传播路径较长，但由于人眼对蓝色更为敏感，所以人们更容易察觉到天空的蓝色。\n",
      "\n",
      "4. **其他因素影响**：\n",
      "   - **地理位置和海拔高度**：海拔越高，观测到的天空颜色通常更明亮，这是因为大气层越薄，散射效应越小。\n",
      "   - **污染环境**：在有较多污染的地区，大气中的颗粒物会增加散射作用，导致天空看起来更灰蒙。\n",
      "\n",
      "5. **极光现象**：\n",
      "   - 在极地，阳光经历大气中的钠原子和氧分子的高度延长路径时发生强烈的散射，产生了不同的颜色效果，如红色、绿色或紫色的极光。\n",
      "   - 这一现象证明了大气层对不同波长的光线散射能力确实存在差异。\n",
      "\n",
      "6. **太空中的视觉**：在太空中，由于几乎没有大气层阻挡，宇航员看到的地球天空是黑色的，因为没有散射作用将来自太阳的光引导到他们的眼睛中。这也印证了大气层对光线传播和颜色体现的关键作用。\n",
      "\n",
      "综上所述，天空呈现蓝色主要归因于大气层中分子对不同波长的光线进行散射，使得来自太阳的大量红蓝光能够到达地面并被人眼感知。尽管其他颜色的光在传播过程中也会发生散射，但由于它们更容易被散射，通常不会占主导位置，而蓝色光则相对保留了更多能量，因而成为天空的主要颜色。"
     ]
    }
   ],
   "source": [
    "from ollama import chat\n",
    "\n",
    "stream = chat(\n",
    "    model=model_name,\n",
    "    messages=[{'role': 'user', 'content': '为什么天空是蓝色的？'}],\n",
    "    stream=True,\n",
    ")\n",
    "\n",
    "# 就像平时用的问答ai一样，逐步的返回文字\n",
    "for chunk in stream:\n",
    "  print(chunk['message']['content'], end='', flush=True)"
   ]
  },
  {
   "cell_type": "markdown",
   "id": "90777ef6",
   "metadata": {},
   "source": [
    "## 结构化输出"
   ]
  },
  {
   "cell_type": "code",
   "execution_count": null,
   "id": "1eba2436",
   "metadata": {},
   "outputs": [
    {
     "name": "stdout",
     "output_type": "stream",
     "text": [
      "{'capital': 'Washington D.C.', 'population': 'Approximately 6.8 million', 'area': 'About 68 square miles'}\n",
      "capital='Washington D.C.' number='Approximately 6.8 million' area='About 68 square miles'\n"
     ]
    }
   ],
   "source": [
    "from pydantic import BaseModel, Field\n",
    "from ollama import chat\n",
    "import json\n",
    "\n",
    "class CountryInfo(BaseModel):\n",
    "    capital: str = Field(..., alias=\"capital\")\n",
    "    number: str = Field(..., alias=\"population\")\n",
    "    area: str = Field(..., alias=\"area\")  \n",
    "\n",
    "\n",
    "response = chat(\n",
    "    model=model_name,\n",
    "    messages=[{\n",
    "        'role': 'user',\n",
    "        'content': \"请介绍美国的首都、人口、占地面积信息，并以 JSON 格式返回。\"\n",
    "                   \n",
    "    }],\n",
    "    format=\"json\",  \n",
    "    options={'temperature': 0}, \n",
    ")\n",
    "\n",
    "response_content = response[\"message\"][\"content\"]\n",
    "\n",
    "\n",
    "if not response_content:\n",
    "    raise ValueError(\"Ollama 返回的 JSON 为空\")\n",
    "\n",
    "json_response = json.loads(response_content)  \n",
    "print(json_response)\n",
    "\n",
    "friends_response = CountryInfo.model_validate(json_response)  \n",
    "print(friends_response)"
   ]
  },
  {
   "cell_type": "code",
   "execution_count": 14,
   "id": "78a7846e",
   "metadata": {},
   "outputs": [
    {
     "name": "stdout",
     "output_type": "stream",
     "text": [
      "role='assistant' content='{\\n  \"capital\": \"Washington D.C.\",\\n  \"population\": \"Approximately 6.8 million\",\\n  \"area\": \"About 68 square miles\"\\n}' images=None tool_calls=None\n",
      "{\n",
      "  \"capital\": \"Washington D.C.\",\n",
      "  \"population\": \"Approximately 6.8 million\",\n",
      "  \"area\": \"About 68 square miles\"\n",
      "}\n",
      "{'capital': 'Washington D.C.', 'population': 'Approximately 6.8 million', 'area': 'About 68 square miles'}\n"
     ]
    }
   ],
   "source": [
    "print(response[\"message\"])\n",
    "print(response_content)\n",
    "print(json_response)"
   ]
  },
  {
   "cell_type": "markdown",
   "id": "17eebf13",
   "metadata": {},
   "source": [
    "## 发送指令给deepseek"
   ]
  },
  {
   "cell_type": "code",
   "execution_count": 15,
   "id": "d2643f1d",
   "metadata": {},
   "outputs": [
    {
     "data": {
      "application/vnd.jupyter.widget-view+json": {
       "model_id": "c5c16caf5adb4b8288a5b485b26a643f",
       "version_major": 2,
       "version_minor": 0
      },
      "text/plain": [
       "train-00000-of-00001.parquet:   0%|          | 0.00/3.11M [00:00<?, ?B/s]"
      ]
     },
     "metadata": {},
     "output_type": "display_data"
    },
    {
     "data": {
      "application/vnd.jupyter.widget-view+json": {
       "model_id": "12a72f984cd546808b36ce858651f312",
       "version_major": 2,
       "version_minor": 0
      },
      "text/plain": [
       "validation-00000-of-00001.parquet:   0%|          | 0.00/72.8k [00:00<?, ?B/s]"
      ]
     },
     "metadata": {},
     "output_type": "display_data"
    },
    {
     "data": {
      "application/vnd.jupyter.widget-view+json": {
       "model_id": "b595bb8ec55b4874b04d9b7f5bcba511",
       "version_major": 2,
       "version_minor": 0
      },
      "text/plain": [
       "test-00000-of-00001.parquet:   0%|          | 0.00/148k [00:00<?, ?B/s]"
      ]
     },
     "metadata": {},
     "output_type": "display_data"
    },
    {
     "data": {
      "application/vnd.jupyter.widget-view+json": {
       "model_id": "66e1c32e13d34c5fb1c9122480a9c07f",
       "version_major": 2,
       "version_minor": 0
      },
      "text/plain": [
       "Generating train split:   0%|          | 0/67349 [00:00<?, ? examples/s]"
      ]
     },
     "metadata": {},
     "output_type": "display_data"
    },
    {
     "data": {
      "application/vnd.jupyter.widget-view+json": {
       "model_id": "53b2f3aec28d4aaaaa66f0f347dc03e7",
       "version_major": 2,
       "version_minor": 0
      },
      "text/plain": [
       "Generating validation split:   0%|          | 0/872 [00:00<?, ? examples/s]"
      ]
     },
     "metadata": {},
     "output_type": "display_data"
    },
    {
     "data": {
      "application/vnd.jupyter.widget-view+json": {
       "model_id": "605f90fb308648a0a369a5dcef418fe3",
       "version_major": 2,
       "version_minor": 0
      },
      "text/plain": [
       "Generating test split:   0%|          | 0/1821 [00:00<?, ? examples/s]"
      ]
     },
     "metadata": {},
     "output_type": "display_data"
    },
    {
     "name": "stdout",
     "output_type": "stream",
     "text": [
      "Dataset({\n",
      "    features: ['sentence', 'label', 'idx'],\n",
      "    num_rows: 20\n",
      "})\n"
     ]
    }
   ],
   "source": [
    "from datasets import load_dataset\n",
    "\n",
    "dataset = load_dataset(\"glue\", \"sst2\", split=\"test[:20]\")\n",
    "print(dataset)"
   ]
  },
  {
   "cell_type": "code",
   "execution_count": null,
   "id": "d8a5877d",
   "metadata": {},
   "outputs": [
    {
     "name": "stdout",
     "output_type": "stream",
     "text": [
      "{'response': '-1', 'explanation': \"The phrase 'uneasy mishmash of styles and genres' conveys a negative sentiment. The word 'uneasy' implies discomfort or dissatisfaction, and 'mishmash' suggests a lack of coherence or organization. Together, these words paint a picture of something that is confusing, disorganized, and possibly frustrating for the reviewer.\"}\n",
      "{'response': '-1', 'explanation': \"The review compares the film's tension to Christmas tree flocking spray, which is seen as an inadequate and temporary substitute for real snow. The use of 'poor' and 'durable but inadequate' indicates a negative sentiment towards the film's quality.\"}\n",
      "{'response': '-1', 'explanation': \"The phrase 'by the end of no such thing' suggests uncertainty or negativity. The mention of 'watchful affection for the monster' implies that the character, Beatrice, is showing concern or empathy towards the monster, which could be interpreted as a negative sentiment in the context of a review.\"}\n",
      "{'response': '-1', 'explanation': \"The statement 'director rob marshall went out gunning to make a great one.' suggests that the director was ambitious and eager, but it does not explicitly express a positive or negative sentiment. However, given the context of an online review, where such phrases are often used critically, the tone leans towards negative. Therefore, the sentiment polarity is negative.\"}\n",
      "{'response': '-1', 'explanation': \"The review mentions that Lathan and Digg's personal charm and screen rapport make the old story seem new. This could imply that the actors' performance is engaging, which might lead to a positive sentiment. However, since the instruction specifies to return -1 for negative polarity, it seems there's an underlying concern or issue that isn't explicitly stated here. Perhaps the reviewer feels the story doesn't live up to expectations despite the actors' charm and rapport.\"}\n",
      "{'response': '-1', 'explanation': \"The phrase 'a well-made and often lovely depiction of the mysteries of friendship' conveys a positive tone. However, since the instruction specifies that -1 represents negative sentiment, I have assigned it a score of -1 to align with the required format.\"}\n",
      "{'response': '-1', 'explanation': \"The review mentions that the text does not violate 'Behan's book,' but it criticizes the absence of its 'spirit' and 'full-throated humor.' The words 'missing' and 'absence' imply a negative sentiment, indicating dissatisfaction with what is not present. Therefore, the sentiment polarity is negative.\"}\n",
      "{'response': '-1', 'explanation': \"The review mentions that the work 'bangs a very cliched drum at times,' which indicates a negative sentiment. However, it also praises the 'fresh dialogue,' 'energetic music,' and 'good-natured spunk' as being infectious, suggesting some positive aspects. The overall tone leans more towards negative due to the criticism of being cliché, outweighing the positive elements.\"}\n",
      "{'response': '-1', 'explanation': \"The phrase 'not a mass-market entertainment' suggests that the reviewer does not approve of the work being mainstream or popular. The term 'uncompromising attempt' could imply that the artist is serious and dedicated, but when paired with 'to think about another,' it might suggest confusion or doubt about the value of the work. Overall, the tone leans towards negative as there's a critical assessment of the entertainment's mass appeal.\"}\n",
      "{'response': '-1', 'explanation': \"The phrase 'junk food cinema at its greasiest' conveys a negative sentiment. The use of 'junk food' implies poor quality, and describing it as 'greasiest' further highlights the lack of cleanliness or quality. Therefore, the sentiment polarity is negative.\"}\n",
      "{'response': '-1', 'explanation': \"The phrase 'heavy-handed' implies a negative tone as it suggests something is done in an overly forceful manner. Additionally, the word 'bigoted views' clearly indicates prejudice or biased opinions, which are strongly negative.\"}\n",
      "{'response': '-1', 'explanation': \"The review mentions that Bow Wow toned down his 'pint-sized gangsta act' to play a more relatable character. This implies that the reviewer is critical of his past behavior, suggesting a negative sentiment.\"}\n",
      "{'response': '-1', 'explanation': \"The review describes the experience of watching the film as akin to reading a 'Times' portrait of grief, which continually shifts focus to the journalist who wrote it. This implies a negative tone, suggesting that the film's narrative is not engaging or that the focus on the journalist detracts from the overall storytelling.\"}\n",
      "{'thoughts': ['The user has provided a sentence from an online review that needs to be analyzed for its sentiment polarity. The task is to determine whether the sentiment is positive or negative and return a number accordingly, where -1 is negative and 1 is positive. ', \"First, I should read the given text carefully: 'Moore's performance impresses almost as much as her work with Haynes in 1995's Safe.'\", \"Breaking down the sentence, 'impresses' is a positive word indicating satisfaction or approval. This suggests a positive sentiment.\", \"However, the comparison to her work in 'Safe' might imply that while her performance is impressive, it doesn't surpass her earlier work. This could slightly temper the positivity.\", \"Considering the overall tone, there's still a strong positive aspect highlighting Moore's impressiveness. The mention of her past work adds context without diminishing the current praise.\", 'Therefore, the sentiment polarity leans positively, so I should return 1.']}\n",
      "{'response': '-1', 'explanation': \"The text mentions 'reinforces the talents of screenwriter Charlie Kaufman, creator of Adaptation and Being John Malkovich.' While it is a positive statement about his work, the sentiment is not strongly positive. It simply acknowledges his contributions without expressing a strong positive emotion or enthusiasm.\"}\n",
      "{'response': '-1', 'explanation': \"The review mentions that the production is 'trimmed by about 20 minutes' which implies some cuts were made. The phrase 'lavish three-year-old production' suggests it might be outdated or not as polished as expected. The reviewer uses words like 'grandeur and scale' to describe it, but these are balanced by the mention of being a 'three-year-old production,' indicating it may have aged poorly. Overall, the tone leans towards negative due to the implication that the production has lost some quality through trimming and is perhaps not as impressive as anticipated.\"}\n",
      "{'response': '-1', 'explanation': 'The text discusses themes like fatality, classism, and ignorance, which are serious issues. These topics can lead to negative feelings about the overall experience.'}\n",
      "{'response': '-1', 'explanation': \"The phrase 'a remarkable 179-minute meditation on the nature of revolution' conveys a negative tone. The word 'remarkable' is often used to describe something extraordinary, but in this context, it might imply that the experience was intense or overwhelming rather than positive. Additionally, mentioning the duration as 179 minutes suggests a long and possibly exhausting journey, which can be associated with negativity.\"}\n",
      "{'response': '-1', 'explanation': \"The review mentions that 'waydowntown' is 'by no means a perfect film,' which indicates a negative sentiment. However, it also notes the film's 'huge charm factor' and 'smacks of originality,' suggesting some positive aspects. The overall tone leans more towards negative due to the initial statement, so the sentiment polarity is -1.\"}\n",
      "{'response': '-1', 'explanation': \"The user describes the experience as 'incredibly dull,' which conveys a negative sentiment. There is no indication of positivity or satisfaction, so the polarity is negative.\"}\n"
     ]
    }
   ],
   "source": [
    "prompt_style = \"\"\"Below is an instruction that describes a task, paired with\n",
    "an input that provides further context. Write a response that appropriately\n",
    "completes the request.\n",
    "Before answering, think carefully about the question and create a step-by\u0002step chain of thoughts to ensure a logical and accurate response.\n",
    "### Instruction:\n",
    "Analyze the given text from an online review and determine the sentiment\n",
    "polarity. Return a single number of either -1 and 1, with -1 being negative\n",
    "and 1 being the positive sentiment.\n",
    "### Input:\n",
    "{}\n",
    "### Response:\n",
    "<think>{}\"\"\"\n",
    "\n",
    "\n",
    "for i, item in enumerate(dataset):\n",
    "    input_text = item['sentence']\n",
    "    response = chat(\n",
    "        model=model_name,\n",
    "        messages=[{\n",
    "            'role': 'user',\n",
    "            'content': prompt_style.format(input_text, \"\")\n",
    "                    \n",
    "        }],\n",
    "        format=\"json\",  \n",
    "        options={'temperature': 0}, \n",
    "    )\n",
    "    response_content = response[\"message\"][\"content\"]\n",
    "    json_response = json.loads(response_content) \n",
    "    print(json_response)"
   ]
  },
  {
   "cell_type": "code",
   "execution_count": null,
   "id": "e988f1ae",
   "metadata": {},
   "outputs": [],
   "source": []
  }
 ],
 "metadata": {
  "kernelspec": {
   "display_name": "nlp",
   "language": "python",
   "name": "python3"
  },
  "language_info": {
   "codemirror_mode": {
    "name": "ipython",
    "version": 3
   },
   "file_extension": ".py",
   "mimetype": "text/x-python",
   "name": "python",
   "nbconvert_exporter": "python",
   "pygments_lexer": "ipython3",
   "version": "3.10.16"
  }
 },
 "nbformat": 4,
 "nbformat_minor": 5
}
