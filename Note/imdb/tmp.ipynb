{
 "cells": [
  {
   "cell_type": "code",
   "execution_count": 1,
   "id": "aa3afd53",
   "metadata": {},
   "outputs": [],
   "source": [
    "import torch \n",
    "import torch.nn as nn"
   ]
  },
  {
   "cell_type": "code",
   "execution_count": 5,
   "id": "01d0e335",
   "metadata": {},
   "outputs": [
    {
     "data": {
      "text/plain": [
       "(torch.Size([2, 3]),\n",
       " tensor([[-1.1554, -1.9398, -0.2367],\n",
       "         [-0.7908,  1.6070,  0.4840]]))"
      ]
     },
     "execution_count": 5,
     "metadata": {},
     "output_type": "execute_result"
    }
   ],
   "source": [
    "a = torch.randn(2,3)\n",
    "a.shape, a"
   ]
  },
  {
   "cell_type": "code",
   "execution_count": 6,
   "id": "f9427a9b",
   "metadata": {},
   "outputs": [
    {
     "data": {
      "text/plain": [
       "(torch.Size([2, 3, 1]),\n",
       " tensor([[[-1.1554],\n",
       "          [-1.9398],\n",
       "          [-0.2367]],\n",
       " \n",
       "         [[-0.7908],\n",
       "          [ 1.6070],\n",
       "          [ 0.4840]]]))"
      ]
     },
     "execution_count": 6,
     "metadata": {},
     "output_type": "execute_result"
    }
   ],
   "source": [
    "b = a.view(a.shape[0], a.shape[1], -1)\n",
    "b.shape, b"
   ]
  },
  {
   "cell_type": "code",
   "execution_count": null,
   "id": "415a90cd",
   "metadata": {},
   "outputs": [],
   "source": []
  }
 ],
 "metadata": {
  "kernelspec": {
   "display_name": "nlp",
   "language": "python",
   "name": "python3"
  },
  "language_info": {
   "codemirror_mode": {
    "name": "ipython",
    "version": 3
   },
   "file_extension": ".py",
   "mimetype": "text/x-python",
   "name": "python",
   "nbconvert_exporter": "python",
   "pygments_lexer": "ipython3",
   "version": "3.10.16"
  }
 },
 "nbformat": 4,
 "nbformat_minor": 5
}
