{
 "cells": [
  {
   "cell_type": "markdown",
   "id": "04a6b250",
   "metadata": {},
   "source": [
    "随机的丢失一些信息，让模型学习，在特征缺失的情况下，依旧看得懂"
   ]
  }
 ],
 "metadata": {
  "kernelspec": {
   "display_name": "d2l",
   "language": "python",
   "name": "python3"
  },
  "language_info": {
   "name": "python",
   "version": "3.9.21"
  }
 },
 "nbformat": 4,
 "nbformat_minor": 5
}
