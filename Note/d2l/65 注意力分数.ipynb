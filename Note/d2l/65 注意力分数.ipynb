{
 "cells": [
  {
   "cell_type": "code",
   "execution_count": 7,
   "id": "6bbb123f",
   "metadata": {},
   "outputs": [],
   "source": [
    "import math\n",
    "import torch\n",
    "from torch import nn\n",
    "from d2l import torch as d2l"
   ]
  },
  {
   "cell_type": "code",
   "execution_count": 8,
   "id": "97168d82",
   "metadata": {},
   "outputs": [],
   "source": [
    "# 非所有的值都应该被纳入到注意力汇聚中\n",
    "# 为了仅将有意义的词元作为值来获取注意力汇聚， 可以指定一个有效序列长度（即词元的个数）\n",
    "def masked_softmax(X: torch.Tensor, valid_lens: torch.Tensor):\n",
    "    if valid_lens is None:\n",
    "        return nn.functional.softmax(X, dim=-1)\n",
    "    else:\n",
    "        shape = X.shape\n",
    "        if valid_lens.dim() == 1:\n",
    "            valid_lens = torch.repeat_interleave(valid_lens, shape[1])\n",
    "        else:\n",
    "            valid_lens = valid_lens.reshape(-1)\n",
    "        # 最后一轴上被掩蔽的元素使用一个非常大的负值替换，从而其softmax输出为0\n",
    "        X = d2l.sequence_mask(X.reshape(-1, shape[-1]), valid_lens,\n",
    "                              value=-1e6)\n",
    "        return nn.functional.softmax(X.reshape(shape), dim=-1)"
   ]
  },
  {
   "cell_type": "code",
   "execution_count": 9,
   "id": "9bd069f7",
   "metadata": {},
   "outputs": [
    {
     "data": {
      "text/plain": [
       "tensor([[[0.4098, 0.5902, 0.0000, 0.0000],\n",
       "         [0.4620, 0.5380, 0.0000, 0.0000]],\n",
       "\n",
       "        [[0.4179, 0.2386, 0.3434, 0.0000],\n",
       "         [0.2897, 0.2654, 0.4449, 0.0000]]])"
      ]
     },
     "execution_count": 9,
     "metadata": {},
     "output_type": "execute_result"
    }
   ],
   "source": [
    "# 注意：softmax计算的结果为权重矩阵。\n",
    "# valid_lens[i]表示第i个批量中，只有前valid_lens[i]个key是有效的  \n",
    "masked_softmax(torch.rand(2,2,4), torch.tensor([2,3]))"
   ]
  },
  {
   "attachments": {
    "image.png": {
     "image/png": "[encoded data removed]"
    }
   },
   "cell_type": "markdown",
   "id": "ae6f1e8c",
   "metadata": {},
   "source": [
    "## 1 当查询和键是不同长度的矢量时，可以使用加性注意力作为评分函数\n",
    "![image.png](attachment:image.png)"
   ]
  },
  {
   "cell_type": "code",
   "execution_count": 10,
   "id": "86238c5f",
   "metadata": {},
   "outputs": [],
   "source": [
    "class AdditiveAttention(nn.Module):\n",
    "    \"\"\"加性注意力\"\"\"\n",
    "    # num_hiddens表示该隐藏层的维度，维度越大表示 \"能力越强\"\n",
    "    def __init__(self, key_size, query_size, num_hiddens, dropout, **kwargs):\n",
    "        super(AdditiveAttention, self).__init__(**kwargs)\n",
    "        self.W_k = nn.Linear(key_size, num_hiddens, bias=False)\n",
    "        self.W_q = nn.Linear(query_size, num_hiddens, bias=False)\n",
    "        self.w_v = nn.Linear(num_hiddens, 1, bias=False)\n",
    "        self.dropout = nn.Dropout(dropout)\n",
    "\n",
    "    def forward(self, queries, keys, values, valid_lens):\n",
    "        queries, keys = self.W_q(queries), self.W_k(keys)\n",
    "        # 在维度扩展后（维度扩展前不满足广播条件）\n",
    "        # queries的形状：(batch_size，查询的个数，1，num_hidden)\n",
    "        # key的形状：(batch_size，1，“键－值”对的个数，num_hiddens)\n",
    "        # 使用广播方式进行求和\n",
    "        features = queries.unsqueeze(2) + keys.unsqueeze(1)\n",
    "        features = torch.tanh(features)\n",
    "        # self.w_v仅有一个输出，因此从形状中移除最后那个维度。\n",
    "        # scores的形状：(batch_size，查询的个数，“键-值”对的个数)\n",
    "        scores = self.w_v(features).squeeze(-1)\n",
    "        self.attention_weights = masked_softmax(scores, valid_lens)\n",
    "        # values的形状：(batch_size，“键－值”对的个数，值的维度)\n",
    "        # 还要注意bmm不是普通的矩阵乘法，而是批量矩阵乘法\n",
    "        # \n",
    "        return torch.bmm(self.dropout(self.attention_weights), values)"
   ]
  },
  {
   "cell_type": "markdown",
   "id": "e2603397",
   "metadata": {},
   "source": [
    "关于 torch squeeze 和 unsqueeze 函数的小总结\n",
    "- squeeze：torch.squeeze()函数的作用减少数组A指定位置N的维度，如果不指定位置参数N，如果数组A的维度为（1，1，3）那么执行 torch.squeeze(A，1) 后A的维度变为 （1，3），中间的维度被删除\n",
    "  - 如果指定的维度大于1，那么将操作无效\n",
    "  - 如果不指定维度N，那么将删除所有维度为1的维度\n",
    "- unsqueeze：torch.unsqueeze()函数的作用增加数组A指定位置N的维度，例如两行三列的数组A维度为(2，3)，那么这个数组就有三个位置可以增加维度，分别是（ [位置0] 2，[位置1] 3 [位置2] ）或者是 （ [位置-3] 2，[位置-2] 3 [位置-1] ），如果执行 torch.unsqueeze(A，1)，数据的维度就变为了 （2，1，3）"
   ]
  },
  {
   "cell_type": "markdown",
   "id": "d412e2b5",
   "metadata": {},
   "source": [
    "关于python的可变参数小总结\n",
    "\n",
    "对于函数参数\n",
    "- 单星号（*）：*agrs： 将所有参数以元组(tuple)的形式导入\n",
    "- 双星号（\\*\\*）：\\*\\*kwargs: 双星号（**）将参数以字典的形式导入\n",
    "\n",
    "对于解包\n",
    "- 单星号：用于解包list，tuple\n",
    "- 双星号：用于解包字典，常用于将字典的key-value对转换为函数的参数\n",
    "```python\n",
    "def foo(param1, *param2):\n",
    "    print (param1)\n",
    "    print (param2)\n",
    "foo(1,2,3,4,5)\n",
    "1\n",
    "(2, 3, 4, 5)\n",
    "\n",
    "\n",
    "def bar(param1, **param2):\n",
    "    print (param1)\n",
    "    print (param2)\n",
    "bar(1,a=2,b=3)\n",
    "1\n",
    "{'a': 2, 'b': 3}"
   ]
  },
  {
   "cell_type": "code",
   "execution_count": 11,
   "id": "394e91fd",
   "metadata": {},
   "outputs": [
    {
     "data": {
      "text/plain": [
       "tensor([[[ 2.0000,  3.0000,  4.0000,  5.0000]],\n",
       "\n",
       "        [[10.0000, 11.0000, 12.0000, 13.0000]]], grad_fn=<BmmBackward0>)"
      ]
     },
     "execution_count": 11,
     "metadata": {},
     "output_type": "execute_result"
    }
   ],
   "source": [
    "queries, keys = torch.normal(0, 1, (2, 1, 20)), torch.ones((2, 10, 2))\n",
    "# values的小批量，两个值矩阵是相同的\n",
    "values = torch.arange(40, dtype=torch.float32).reshape(1, 10, 4).repeat(\n",
    "    2, 1, 1)\n",
    "valid_lens = torch.tensor([2, 6])\n",
    "\n",
    "attention = AdditiveAttention(key_size=2, \n",
    "                              query_size=20, \n",
    "                              num_hiddens=8,\n",
    "                              dropout=0.1)\n",
    "attention.eval()\n",
    "attention(queries, keys, values, valid_lens)"
   ]
  },
  {
   "cell_type": "markdown",
   "id": "cd9ececd",
   "metadata": {},
   "source": [
    "## 2. 当查询和键的维度相同时，可以使用缩放点积注意力评分函数"
   ]
  },
  {
   "cell_type": "markdown",
   "id": "0f277df8",
   "metadata": {},
   "source": [
    "$$\n",
    "a(\\mathbf{q}, \\mathbf{k}) = \\mathbf{q}^\\top \\mathbf{k} / \\sqrt{d}\n",
    "$$\n",
    "最终输出的形状为：(batch_size, query_num, key-value_num)\n",
    "\n",
    "下面的实现为支持批处理的计算方法"
   ]
  },
  {
   "cell_type": "code",
   "execution_count": 12,
   "id": "5e3ac2af",
   "metadata": {},
   "outputs": [],
   "source": [
    "# 支持批量处理的Attention\n",
    "class DotProductAttention(nn.Module):\n",
    "    def __init__(self, dropout, **kwargs):\n",
    "        super(DotProductAttention, self).__init__(**kwargs)\n",
    "        self.dropout = nn.Dropout(dropout)\n",
    "    # 对于公示的要求查询和键的维度必须相同\n",
    "    # Q: (batch_size, query_num, d)\n",
    "    # K: (batch_size, key-value_num, d)\n",
    "    # V: (batch_size, key-value_num, 值的维度)\n",
    "    def forward(self, queries: torch.Tensor, keys: torch.Tensor, values: torch.Tensor, \n",
    "                valid_len=None):\n",
    "        d = queries.shape[-1]\n",
    "        scores = torch.bmm(queries, keys.transpose(1,2)) / math.sqrt(d)\n",
    "        self.attention_weights = masked_softmax(scores, valid_lens)\n",
    "        return torch.bmm(self.dropout(self.attention_weights), values)"
   ]
  },
  {
   "cell_type": "markdown",
   "id": "aa593d43",
   "metadata": {},
   "source": [
    "浅析`masked_softmax`中，`valid_lens`参数的作用:\n",
    "\n",
    "注意力分数计算的结果`attention_weights`是一个3D的张量，形状为`(batch_size, query_num, key-value_num)`. `valid_lens` 的作用：第i个批量中，只有前`valid_lens[i]个key`参与注意力计算，后8个键的权重被掩码。对应到`attention_weights`中， 只有`[i,:,:valid_lens[i]]`会被`soft_max`赋值有效权重，后面的权重全为0.\n"
   ]
  },
  {
   "cell_type": "code",
   "execution_count": 13,
   "id": "f960966e",
   "metadata": {},
   "outputs": [
    {
     "data": {
      "text/plain": [
       "tensor([[[ 2.0000,  3.0000,  4.0000,  5.0000]],\n",
       "\n",
       "        [[10.0000, 11.0000, 12.0000, 13.0000]]])"
      ]
     },
     "execution_count": 13,
     "metadata": {},
     "output_type": "execute_result"
    }
   ],
   "source": [
    "queries = torch.normal(0, 1, (2, 1, 2))\n",
    "attention = DotProductAttention(dropout=0.5)\n",
    "attention.eval()\n",
    "attention(queries, keys, values, valid_lens)"
   ]
  }
 ],
 "metadata": {
  "kernelspec": {
   "display_name": "d2l",
   "language": "python",
   "name": "python3"
  },
  "language_info": {
   "codemirror_mode": {
    "name": "ipython",
    "version": 3
   },
   "file_extension": ".py",
   "mimetype": "text/x-python",
   "name": "python",
   "nbconvert_exporter": "python",
   "pygments_lexer": "ipython3",
   "version": "3.9.21"
  }
 },
 "nbformat": 4,
 "nbformat_minor": 5
}
